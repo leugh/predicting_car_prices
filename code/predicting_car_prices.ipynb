{
 "cells": [
  {
   "cell_type": "markdown",
   "id": "1fbfaf81",
   "metadata": {},
   "source": [
    "# Readme\n",
    "\n",
    "Predict car prices for dataset "
   ]
  },
  {
   "cell_type": "code",
   "execution_count": null,
   "id": "26edea1c",
   "metadata": {},
   "outputs": [],
   "source": []
  },
  {
   "cell_type": "code",
   "execution_count": null,
   "id": "9b944504",
   "metadata": {},
   "outputs": [],
   "source": []
  },
  {
   "cell_type": "code",
   "execution_count": null,
   "id": "3ce29d2b",
   "metadata": {},
   "outputs": [],
   "source": []
  }
 ],
 "metadata": {
  "kernelspec": {
   "display_name": "Python 3",
   "language": "python",
   "name": "python3"
  },
  "language_info": {
   "codemirror_mode": {
    "name": "ipython",
    "version": 3
   },
   "file_extension": ".py",
   "mimetype": "text/x-python",
   "name": "python",
   "nbconvert_exporter": "python",
   "pygments_lexer": "ipython3",
   "version": "3.7.9"
  }
 },
 "nbformat": 4,
 "nbformat_minor": 5
}
